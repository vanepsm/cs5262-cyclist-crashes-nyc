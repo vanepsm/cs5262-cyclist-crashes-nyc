{
  "nbformat": 4,
  "nbformat_minor": 0,
  "metadata": {
    "colab": {
      "provenance": [],
      "authorship_tag": "ABX9TyMjWVGPPXQzNwos1LUzwsQO",
      "include_colab_link": true
    },
    "kernelspec": {
      "name": "python3",
      "display_name": "Python 3"
    },
    "language_info": {
      "name": "python"
    }
  },
  "cells": [
    {
      "cell_type": "markdown",
      "metadata": {
        "id": "view-in-github",
        "colab_type": "text"
      },
      "source": [
        "<a href=\"https://colab.research.google.com/github/vanepsm/cs5262-cyclist-crashes-nyc/blob/main/New_York_City_Cyclist_Accidents.ipynb\" target=\"_parent\"><img src=\"https://colab.research.google.com/assets/colab-badge.svg\" alt=\"Open In Colab\"/></a>"
      ]
    },
    {
      "cell_type": "code",
      "execution_count": null,
      "metadata": {
        "id": "gHrdd_ruAoKw"
      },
      "outputs": [],
      "source": []
    },
    {
      "cell_type": "markdown",
      "source": [
        "# Investigating cyclist accidents in New York City\n",
        "## Background\n",
        "### Introduction\n",
        "**The objective of this project is to identify factors contributing to cyclist injuries and fatalities.**\n",
        "\n",
        "With the increasing popularity of bicycles and e-bikes, it's imperative for drivers, cyclists, pedestrians, and policymakers to recognize the risks associated with cyclists sharing the road and take appropriate measures.\n",
        "\n",
        "## Project Description\n",
        "### Topic\n",
        "Our topic will focus on motor vehicle crashes that involve cyclist injuries or deaths, and attempt to analyze these data to determine what factors are correlated with these events.\n",
        "\n",
        "### Data\n",
        "This project seeks to gain insights into vehicle accidents involving cyclists extracted from the New York City vehicle collisions dataset.\n",
        ">> https://catalog.data.gov/dataset/motor-vehicle-collisions-crashes\n",
        "\n",
        "A subset of the data pertaining only to cyclist accidents has been extracted and is available here:\n",
        ">> https://drive.google.com/file/d/1CFaRXe3Y6PWHpYOoGD7qih6-1oWzUi0e/view\n",
        "\n",
        "#### Data sub-selection criteria\n",
        "The original data set contains over two million rows, and encapsulates a broad spectrum of vehicle collisions. In order to narrow this dataset down the following was done:\n",
        "- Import the original CSV data to a relational database for refinement.\n",
        "- Idenify a subset of rows:\n",
        " - Include only the rows with cyclist injuries or fatalities\n",
        " - Remove all rows with more than 3 vehicles involved in the crash\n",
        " - Remove all rows with a null or empty zip code\n",
        "- Identify a subset of columns:\n",
        " - Exclude all columns with details about a 4th or 5th vehicle\n",
        " - Exclude duplicate latitude/longitude columns\n",
        "- Export the subset data to a new CSV for use in this project.\n",
        "\n",
        "## Performance Metrics\n",
        "\n",
        "### Binary Classification\n",
        "- **Injured vs. Killed.** I would like to classify observations into two classes. \"Cyclist Injured\" vs \"Cyclist Killed\".\n",
        "\n",
        "### Clustering\n",
        "I am hoping to extract meaningful patterns from these data, some of which may include:\n",
        "- **Physical location.** Intuitively there are locations that are more dangerous for cyclists than others. Intersections, curves, congested spaces, etc...\n",
        "- **Time.** It seems likely that certain times will see more accidents than others.\n",
        "- **Types of vehicles involved.** It's possible that certain vehicle types will result in more accidents overall, or perhaps result in death more often than injury.\n",
        "- **Contributing factors for the accident.** What types of contributing factors are more likely to result in injury or death? Distracted driving, improper use of passing lanes or alcohol intoxication?"
      ],
      "metadata": {
        "id": "Waq0ASMPAsky"
      }
    }
  ]
}