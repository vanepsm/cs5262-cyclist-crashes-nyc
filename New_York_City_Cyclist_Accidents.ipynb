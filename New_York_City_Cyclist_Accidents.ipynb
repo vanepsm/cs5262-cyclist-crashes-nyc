{
  "nbformat": 4,
  "nbformat_minor": 0,
  "metadata": {
    "colab": {
      "provenance": [],
      "authorship_tag": "ABX9TyPg2GsK8xFNZGfHzeuxk2ia",
      "include_colab_link": true
    },
    "kernelspec": {
      "name": "python3",
      "display_name": "Python 3"
    },
    "language_info": {
      "name": "python"
    }
  },
  "cells": [
    {
      "cell_type": "markdown",
      "metadata": {
        "id": "view-in-github",
        "colab_type": "text"
      },
      "source": [
        "<a href=\"https://colab.research.google.com/github/vanepsm/cs5262-cyclist-crashes-nyc/blob/main/New_York_City_Cyclist_Accidents.ipynb\" target=\"_parent\"><img src=\"https://colab.research.google.com/assets/colab-badge.svg\" alt=\"Open In Colab\"/></a>"
      ]
    },
    {
      "cell_type": "code",
      "execution_count": null,
      "metadata": {
        "id": "gHrdd_ruAoKw"
      },
      "outputs": [],
      "source": []
    },
    {
      "cell_type": "markdown",
      "source": [
        "# Investigating cyclist accidents in New York City\n",
        "## Background\n",
        "### Introduction\n",
        ">> **The objective of this project is to identify factors contributing to cyclist injuries and fatalities.** With the increasing popularity of bicycles and e-bikes, it's imperative for drivers, cyclists, pedestrians, and policymakers to recognize the risks associated with cyclists sharing the road and take appropriate measures.\n",
        "\n",
        ">> Transportation is a key facilitator to human flourishing. Employment, physical health and psychological health all depend on the availability of movement of people from one place to another. The predominant mode of transportation in the United States since the early 1900s has been the automobile, leading to the development of auto-centric infrastructure without much consideration for other forms of transport. Bicycles, in their various forms, have had to coexist within this infrastructure, often resulting in unfortunate incidents.\n",
        "\n",
        "### Data\n",
        "> This project seeks to gain insights into vehicle accidents involving cyclists extracted from the New York City vehicle collisions dataset.\n",
        ">> https://catalog.data.gov/dataset/motor-vehicle-collisions-crashes\n",
        "\n",
        "> A subset of the data pertaining only to cyclist accidents has been created and is available here:\n",
        ">> https://drive.google.com/file/d/1CFaRXe3Y6PWHpYOoGD7qih6-1oWzUi0e/view\n",
        "\n",
        "\n",
        "\n",
        "\n",
        "\n",
        "\n",
        "\n",
        "## Project Description\n",
        "\n",
        "> ### Data Curation\n",
        ">> The description of this data is as follows:\n",
        ">>> *The Motor Vehicle Collisions crash table contains details on the crash event. Each row represents a crash event. The Motor Vehicle Collisions data tables contain information from all police reported motor vehicle collisions in NYC. The police report (MV104-AN) is required to be filled out for collisions where someone is injured or killed, or where there is at least $1000 worth of damage.*\n",
        "\n",
        ">> This data set contains over two million rows, and encapsulates a broad spectrum of various vehicle collisions. Such a large number of data points exceeds the maximum for this class. Investigation of the data also produced a relatively small but significant percentage of data rows with incomplete data. In order to conform to the requirements of the class as well as extract a data set with complete data the following was done:\n",
        "- Import the CSV data from https://catalog.data.gov to a Postgres relational database for refinement.\n",
        "- Idenify a subset of rows:\n",
        " - Include only the rows with cyclist injuries or fatalities\n",
        " - Remove all rows with more than 3 vehicles involved in the crash\n",
        " - Remove all rows with a null or empty zip code\n",
        "- Identify a subset of columns:\n",
        " - Exclude all columns with details about a 4th or 5th vehicle\n",
        " - Exclude duplicate latitude/longitude columns\n",
        "- Export the subset data to a new CSV for use in this project.\n",
        "\n",
        "## Performance Metrics\n"
      ],
      "metadata": {
        "id": "Waq0ASMPAsky"
      }
    }
  ]
}